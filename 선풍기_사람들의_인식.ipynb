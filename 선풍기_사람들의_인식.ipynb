{
  "nbformat": 4,
  "nbformat_minor": 0,
  "metadata": {
    "colab": {
      "name": "선풍기 사람들의 인식.ipynb",
      "provenance": [],
      "collapsed_sections": [],
      "include_colab_link": true
    },
    "kernelspec": {
      "name": "python3",
      "display_name": "Python 3"
    }
  },
  "cells": [
    {
      "cell_type": "markdown",
      "metadata": {
        "id": "view-in-github",
        "colab_type": "text"
      },
      "source": [
        "<a href=\"https://colab.research.google.com/github/Deep-of-Machine/Fan_recognition/blob/main/%EC%84%A0%ED%92%8D%EA%B8%B0_%EC%82%AC%EB%9E%8C%EB%93%A4%EC%9D%98_%EC%9D%B8%EC%8B%9D.ipynb\" target=\"_parent\"><img src=\"https://colab.research.google.com/assets/colab-badge.svg\" alt=\"Open In Colab\"/></a>"
      ]
    },
    {
      "cell_type": "code",
      "metadata": {
        "id": "sR8dQ-Hac1SG",
        "colab": {
          "base_uri": "https://localhost:8080/",
          "height": 1000
        },
        "outputId": "51962e67-9d93-4efe-e1d2-c6a82c227cc8"
      },
      "source": [
        "'''\n",
        "!apt-get install fonts-nanum*\n",
        "!apt-get install fontconfig\n",
        "!fc-cache -fv\n",
        "!cp /usr/share/fonts/truetype/nanum/Nanum* /usr/local/lib/python3.6/dist-packages/matplotlib/mpl-data/fonts/ttf/\n",
        "!rm -rf /content/.cache/matplotlib/*\n",
        "'''\n",
        "\n",
        "%matplotlib inline\n",
        "%config InlineBackend.figure_format='retina'\n",
        "path = '/usr/share/fonts/truetype/nanum/NanumGothicBold.ttf'\n",
        "import matplotlib.font_manager as fm\n",
        "fontprop = fm.FontProperties(fname=path, size=12)\n",
        "\n",
        "import pandas as pd\n",
        "import matplotlib.pyplot as plt\n",
        "import numpy as np\n",
        "import collections\n",
        "\n",
        "from google.colab import auth\n",
        "auth.authenticate_user()   # 사용자 인증\n",
        "import gspread\n",
        "from oauth2client.client import GoogleCredentials\n",
        "gc = gspread.authorize(GoogleCredentials.get_application_default())  # 스프레드시트 사용 권한을 gc에 저장\n",
        "worksheet = gc.open_by_url('https://docs.google.com/spreadsheets/d/1IKOzCkF7T_XK6iXj70BYJprxHEMmp4qXRIxX666NgkU/edit#gid=216037538').sheet1  # 스프레드시트를 오픈\n",
        "rows = worksheet.get_all_values()  # 스프레드시트를 읽음(모든 셀의 값을 문자열 형식의 리스트의 리스트를 반환)\n",
        "df = pd.DataFrame.from_records(rows[1:], columns=rows[0])\n",
        "\n",
        "\n",
        "display(df)\n",
        "df1 = df['집에서 사용하는 선풍기 날개 엽의 개수'].str.split(',')\n",
        "df2=[]\n",
        "df3=[]\n",
        "\n",
        "display(df1)\n",
        "\n",
        "#df1 = df1.str.rstrip('개').astype(int)\n",
        "df2 = df['바람의 세기가 가장 강할것 같은 날개 엽의 개수'].sort_values()#.str.rstrip('개').astype(int)\n",
        "df3 = df['소음이 가장 적을것 같은 선풍기 날개 엽의 개수'].sort_values()#.str.rstrip('개').astype(int)\n",
        "display(df2)\n",
        "\n",
        "plt.title('바람의 세기가 가장 강할것 같은 날개 엽의 개수',fontproperties=fontprop)\n",
        "hist = collections.Counter(df2)\n",
        "ind = np.arange(len(hist))\n",
        "plt.bar(ind, hist.values(), width=0.3, color='red')\n",
        "plt.xticks(ind, hist.keys(), fontproperties=fontprop)\n",
        "plt.xlabel('날개 엽의 개수', fontproperties=fontprop)\n",
        "plt.ylabel('선택한 사람의 수', fontproperties=fontprop)\n",
        "plt.show()\n",
        "\n",
        "\n",
        "plt.title('소음이 가장 적을것 같은 선풍기 날개 엽의 개수',fontproperties=fontprop)\n",
        "hist = collections.Counter(df3)\n",
        "ind = np.arange(len(hist))\n",
        "plt.bar(ind, hist.values(), width=0.5, color='blue')\n",
        "plt.xticks(ind, hist.keys(), fontproperties=fontprop)\n",
        "plt.xlabel('날개 엽의 개수', fontproperties=fontprop)\n",
        "plt.ylabel('선택한 사람의 수', fontproperties=fontprop)\n",
        "plt.show()\n",
        "\n",
        "'''\n",
        "df0= df[df['성별'] == '남성']\n",
        "df1= df[df['성별'] == '여성']\n",
        "plt.scatter(df0['몸무게'].astype(int), df0['키'].astype(int), s=15, c='b', label='Men')\n",
        "plt.scatter(df1['몸무게'].astype(int), df1['키'].astype(int), s=15, c='r', label='Women')\n",
        "plt.legend()\n",
        "plt.title('BMI')\n",
        "plt.xlabel('Weight')\n",
        "plt.ylabel('Height')\n",
        "plt.show()\n",
        "\n",
        "plt.figure(figsize=(10, 7))\n",
        "hist = collections.Counter(df['bmi'].astype(float))\n",
        "ind = np.arange(len(hist))\n",
        "plt.bar(ind, hist.keys(), width=0.5, color ='blue')\n",
        "plt.xticks(ind, df['이름'],fontproperties=fontprop)\n",
        "plt.title('BMI')\n",
        "plt.xlabel('Name')\n",
        "plt.ylabel('BMI')\n",
        "plt.show()\n",
        "\n",
        "plt.figure(figsize=(10, 7))\n",
        "hist = collections.Counter(df['판정'])\n",
        "ind = np.arange(len(hist))\n",
        "plt.bar(ind, hist.values(), width=0.5, color ='red')\n",
        "plt.xticks(ind, hist.keys(), fontproperties=fontprop)\n",
        "plt.title('BMI')\n",
        "plt.xlabel('Category')\n",
        "plt.ylabel('People')\n",
        "plt.show()\n",
        "'''\n"
      ],
      "execution_count": null,
      "outputs": [
        {
          "output_type": "display_data",
          "data": {
            "text/html": [
              "<div>\n",
              "<style scoped>\n",
              "    .dataframe tbody tr th:only-of-type {\n",
              "        vertical-align: middle;\n",
              "    }\n",
              "\n",
              "    .dataframe tbody tr th {\n",
              "        vertical-align: top;\n",
              "    }\n",
              "\n",
              "    .dataframe thead th {\n",
              "        text-align: right;\n",
              "    }\n",
              "</style>\n",
              "<table border=\"1\" class=\"dataframe\">\n",
              "  <thead>\n",
              "    <tr style=\"text-align: right;\">\n",
              "      <th></th>\n",
              "      <th>타임스탬프</th>\n",
              "      <th>집에서 사용하는 선풍기 날개 엽의 개수</th>\n",
              "      <th>바람의 세기가 가장 강할것 같은 날개 엽의 개수</th>\n",
              "      <th>소음이 가장 적을것 같은 선풍기 날개 엽의 개수</th>\n",
              "    </tr>\n",
              "  </thead>\n",
              "  <tbody>\n",
              "    <tr>\n",
              "      <th>0</th>\n",
              "      <td>2019. 8. 31 오전 11:03:05</td>\n",
              "      <td>3개, 5개</td>\n",
              "      <td>3개</td>\n",
              "      <td>2개</td>\n",
              "    </tr>\n",
              "    <tr>\n",
              "      <th>1</th>\n",
              "      <td>2019. 8. 31 오후 8:17:44</td>\n",
              "      <td>3개</td>\n",
              "      <td>3개</td>\n",
              "      <td>5개</td>\n",
              "    </tr>\n",
              "    <tr>\n",
              "      <th>2</th>\n",
              "      <td>2019. 8. 31 오후 11:32:35</td>\n",
              "      <td>4개</td>\n",
              "      <td>3개</td>\n",
              "      <td>3개</td>\n",
              "    </tr>\n",
              "    <tr>\n",
              "      <th>3</th>\n",
              "      <td>2019. 8. 31 오후 11:36:58</td>\n",
              "      <td>3개, 5개</td>\n",
              "      <td>5개</td>\n",
              "      <td>2개</td>\n",
              "    </tr>\n",
              "    <tr>\n",
              "      <th>4</th>\n",
              "      <td>2019. 9. 1 오전 12:05:54</td>\n",
              "      <td>3개, 4개</td>\n",
              "      <td>4개</td>\n",
              "      <td>5개</td>\n",
              "    </tr>\n",
              "    <tr>\n",
              "      <th>5</th>\n",
              "      <td>2019. 9. 1 오전 12:20:17</td>\n",
              "      <td>3개</td>\n",
              "      <td>3개</td>\n",
              "      <td>3개</td>\n",
              "    </tr>\n",
              "    <tr>\n",
              "      <th>6</th>\n",
              "      <td>2019. 9. 1 오전 10:36:30</td>\n",
              "      <td>3개, 5개</td>\n",
              "      <td>3개</td>\n",
              "      <td>2개</td>\n",
              "    </tr>\n",
              "    <tr>\n",
              "      <th>7</th>\n",
              "      <td>2019. 9. 1 오전 11:05:11</td>\n",
              "      <td>4개, 5개</td>\n",
              "      <td>4개</td>\n",
              "      <td>5개</td>\n",
              "    </tr>\n",
              "    <tr>\n",
              "      <th>8</th>\n",
              "      <td>2019. 9. 1 오전 11:25:08</td>\n",
              "      <td>5개</td>\n",
              "      <td>5개</td>\n",
              "      <td>3개</td>\n",
              "    </tr>\n",
              "    <tr>\n",
              "      <th>9</th>\n",
              "      <td>2019. 9. 1 오후 11:03:16</td>\n",
              "      <td>4개</td>\n",
              "      <td>3개</td>\n",
              "      <td>3개</td>\n",
              "    </tr>\n",
              "    <tr>\n",
              "      <th>10</th>\n",
              "      <td>2019. 9. 1 오후 11:05:38</td>\n",
              "      <td>5개</td>\n",
              "      <td>5개</td>\n",
              "      <td>4개</td>\n",
              "    </tr>\n",
              "    <tr>\n",
              "      <th>11</th>\n",
              "      <td>2019. 9. 1 오후 11:48:04</td>\n",
              "      <td>3개</td>\n",
              "      <td>3개</td>\n",
              "      <td>5개</td>\n",
              "    </tr>\n",
              "    <tr>\n",
              "      <th>12</th>\n",
              "      <td>2019. 9. 2 오전 12:36:47</td>\n",
              "      <td>3개</td>\n",
              "      <td>5개</td>\n",
              "      <td>5개</td>\n",
              "    </tr>\n",
              "  </tbody>\n",
              "</table>\n",
              "</div>"
            ],
            "text/plain": [
              "                      타임스탬프  ... 소음이 가장 적을것 같은 선풍기 날개 엽의 개수\n",
              "0   2019. 8. 31 오전 11:03:05  ...                         2개\n",
              "1    2019. 8. 31 오후 8:17:44  ...                         5개\n",
              "2   2019. 8. 31 오후 11:32:35  ...                         3개\n",
              "3   2019. 8. 31 오후 11:36:58  ...                         2개\n",
              "4    2019. 9. 1 오전 12:05:54  ...                         5개\n",
              "5    2019. 9. 1 오전 12:20:17  ...                         3개\n",
              "6    2019. 9. 1 오전 10:36:30  ...                         2개\n",
              "7    2019. 9. 1 오전 11:05:11  ...                         5개\n",
              "8    2019. 9. 1 오전 11:25:08  ...                         3개\n",
              "9    2019. 9. 1 오후 11:03:16  ...                         3개\n",
              "10   2019. 9. 1 오후 11:05:38  ...                         4개\n",
              "11   2019. 9. 1 오후 11:48:04  ...                         5개\n",
              "12   2019. 9. 2 오전 12:36:47  ...                         5개\n",
              "\n",
              "[13 rows x 4 columns]"
            ]
          },
          "metadata": {
            "tags": []
          }
        },
        {
          "output_type": "display_data",
          "data": {
            "text/plain": [
              "0     [3개,  5개]\n",
              "1          [3개]\n",
              "2          [4개]\n",
              "3     [3개,  5개]\n",
              "4     [3개,  4개]\n",
              "5          [3개]\n",
              "6     [3개,  5개]\n",
              "7     [4개,  5개]\n",
              "8          [5개]\n",
              "9          [4개]\n",
              "10         [5개]\n",
              "11         [3개]\n",
              "12         [3개]\n",
              "Name: 집에서 사용하는 선풍기 날개 엽의 개수, dtype: object"
            ]
          },
          "metadata": {
            "tags": []
          }
        },
        {
          "output_type": "display_data",
          "data": {
            "text/plain": [
              "0     3개\n",
              "1     3개\n",
              "2     3개\n",
              "5     3개\n",
              "6     3개\n",
              "9     3개\n",
              "11    3개\n",
              "4     4개\n",
              "7     4개\n",
              "3     5개\n",
              "8     5개\n",
              "10    5개\n",
              "12    5개\n",
              "Name: 바람의 세기가 가장 강할것 같은 날개 엽의 개수, dtype: object"
            ]
          },
          "metadata": {
            "tags": []
          }
        },
        {
          "output_type": "display_data",
          "data": {
            "image/png": "[encoded data removed]",
            "text/plain": [
              "<Figure size 432x288 with 1 Axes>"
            ]
          },
          "metadata": {
            "tags": [],
            "image/png": {
              "width": 380,
              "height": 282
            }
          }
        },
        {
          "output_type": "display_data",
          "data": {
            "image/png": "[encoded data removed]",
            "text/plain": [
              "<Figure size 432x288 with 1 Axes>"
            ]
          },
          "metadata": {
            "tags": [],
            "image/png": {
              "width": 380,
              "height": 282
            }
          }
        },
        {
          "output_type": "execute_result",
          "data": {
            "text/plain": [
              "\"\\ndf0= df[df['성별'] == '남성']\\ndf1= df[df['성별'] == '여성']\\nplt.scatter(df0['몸무게'].astype(int), df0['키'].astype(int), s=15, c='b', label='Men')\\nplt.scatter(df1['몸무게'].astype(int), df1['키'].astype(int), s=15, c='r', label='Women')\\nplt.legend()\\nplt.title('BMI')\\nplt.xlabel('Weight')\\nplt.ylabel('Height')\\nplt.show()\\n\\nplt.figure(figsize=(10, 7))\\nhist = collections.Counter(df['bmi'].astype(float))\\nind = np.arange(len(hist))\\nplt.bar(ind, hist.keys(), width=0.5, color ='blue')\\nplt.xticks(ind, df['이름'],fontproperties=fontprop)\\nplt.title('BMI')\\nplt.xlabel('Name')\\nplt.ylabel('BMI')\\nplt.show()\\n\\nplt.figure(figsize=(10, 7))\\nhist = collections.Counter(df['판정'])\\nind = np.arange(len(hist))\\nplt.bar(ind, hist.values(), width=0.5, color ='red')\\nplt.xticks(ind, hist.keys(), fontproperties=fontprop)\\nplt.title('BMI')\\nplt.xlabel('Category')\\nplt.ylabel('People')\\nplt.show()\\n\""
            ]
          },
          "metadata": {
            "tags": []
          },
          "execution_count": 52
        }
      ]
    }
  ]
}